{
 "cells": [
  {
   "cell_type": "code",
   "execution_count": 25,
   "metadata": {},
   "outputs": [],
   "source": [
    "import json\n",
    "import pandas as pd\n",
    "import numpy as np\n",
    "import matplotlib.pyplot as plt\n",
    "import mpl_toolkits.mplot3d.axes3d as p3\n",
    "from matplotlib import animation"
   ]
  },
  {
   "cell_type": "code",
   "execution_count": 26,
   "metadata": {},
   "outputs": [
    {
     "name": "stdout",
     "output_type": "stream",
     "text": [
      "The data is  dict_keys(['UserName', 'CorrectMoves', 'Feedback', 'markerEvents', 'moves'])\n"
     ]
    }
   ],
   "source": [
    "with open('ms1609025.json') as f:\n",
    "    data = json.load(f)\n",
    "    \n",
    "print (\"The data is \", data.keys())"
   ]
  },
  {
   "cell_type": "code",
   "execution_count": 27,
   "metadata": {},
   "outputs": [],
   "source": [
    "# data"
   ]
  },
  {
   "cell_type": "code",
   "execution_count": 28,
   "metadata": {},
   "outputs": [],
   "source": [
    "# data['moves']"
   ]
  },
  {
   "cell_type": "code",
   "execution_count": 29,
   "metadata": {},
   "outputs": [],
   "source": [
    "moves = data['moves']"
   ]
  },
  {
   "cell_type": "code",
   "execution_count": 30,
   "metadata": {},
   "outputs": [
    {
     "name": "stdout",
     "output_type": "stream",
     "text": [
      "2020-10-26 08:43:05\n"
     ]
    }
   ],
   "source": [
    "# simple code to convert Unixtime into datetime\n",
    "from datetime import datetime\n",
    "ts = int(\"1603701785\")\n",
    "\n",
    "print(datetime.utcfromtimestamp(ts).strftime('%Y-%m-%d %H:%M:%S'))"
   ]
  },
  {
   "cell_type": "code",
   "execution_count": 31,
   "metadata": {},
   "outputs": [
    {
     "data": {
      "text/plain": [
       "10"
      ]
     },
     "execution_count": 31,
     "metadata": {},
     "output_type": "execute_result"
    }
   ],
   "source": [
    "len(moves) #show the number of elements in that variable"
   ]
  },
  {
   "cell_type": "code",
   "execution_count": 32,
   "metadata": {},
   "outputs": [],
   "source": [
    "# moves[num_move]['StickPositions']"
   ]
  },
  {
   "cell_type": "code",
   "execution_count": 33,
   "metadata": {},
   "outputs": [],
   "source": [
    "num_move = 9 # focus to data for each of the moves\n",
    "StickPositions = pd.DataFrame(moves[num_move]['StickPositions'])\n",
    "RedDrumPositions = pd.DataFrame(moves[num_move]['RedDrumPositions'])\n",
    "BlueDrumPositions = pd.DataFrame(moves[num_move]['BlueDrumPositions'])"
   ]
  },
  {
   "cell_type": "code",
   "execution_count": 34,
   "metadata": {},
   "outputs": [
    {
     "data": {
      "text/html": [
       "<div>\n",
       "<style scoped>\n",
       "    .dataframe tbody tr th:only-of-type {\n",
       "        vertical-align: middle;\n",
       "    }\n",
       "\n",
       "    .dataframe tbody tr th {\n",
       "        vertical-align: top;\n",
       "    }\n",
       "\n",
       "    .dataframe thead th {\n",
       "        text-align: right;\n",
       "    }\n",
       "</style>\n",
       "<table border=\"1\" class=\"dataframe\">\n",
       "  <thead>\n",
       "    <tr style=\"text-align: right;\">\n",
       "      <th></th>\n",
       "      <th>position</th>\n",
       "      <th>time</th>\n",
       "    </tr>\n",
       "  </thead>\n",
       "  <tbody>\n",
       "    <tr>\n",
       "      <th>0</th>\n",
       "      <td>1.09768,-0.189055,5.608097</td>\n",
       "      <td>1600332339.662</td>\n",
       "    </tr>\n",
       "    <tr>\n",
       "      <th>1</th>\n",
       "      <td>1.093091,-0.1887292,5.613128</td>\n",
       "      <td>1600332339.691</td>\n",
       "    </tr>\n",
       "    <tr>\n",
       "      <th>2</th>\n",
       "      <td>1.097273,-0.1852418,5.618028</td>\n",
       "      <td>1600332339.724</td>\n",
       "    </tr>\n",
       "    <tr>\n",
       "      <th>3</th>\n",
       "      <td>1.119692,-0.1771073,5.616951</td>\n",
       "      <td>1600332339.758</td>\n",
       "    </tr>\n",
       "    <tr>\n",
       "      <th>4</th>\n",
       "      <td>1.135091,-0.1656508,5.614075</td>\n",
       "      <td>1600332339.791</td>\n",
       "    </tr>\n",
       "  </tbody>\n",
       "</table>\n",
       "</div>"
      ],
      "text/plain": [
       "                       position            time\n",
       "0    1.09768,-0.189055,5.608097  1600332339.662\n",
       "1  1.093091,-0.1887292,5.613128  1600332339.691\n",
       "2  1.097273,-0.1852418,5.618028  1600332339.724\n",
       "3  1.119692,-0.1771073,5.616951  1600332339.758\n",
       "4  1.135091,-0.1656508,5.614075  1600332339.791"
      ]
     },
     "execution_count": 34,
     "metadata": {},
     "output_type": "execute_result"
    }
   ],
   "source": [
    "BlueDrumPositions.head()"
   ]
  },
  {
   "cell_type": "code",
   "execution_count": 35,
   "metadata": {},
   "outputs": [],
   "source": [
    "# split position and time values to better manipulate dataframe\n",
    "\n",
    "def txtsplit(x):\n",
    "    return x.split(\",\")[0], x.split(\",\")[1], x.split(\",\")[2]\n",
    "\n",
    "BlueDrumPositions['x'], BlueDrumPositions['y'], BlueDrumPositions['z'] = zip(*BlueDrumPositions['position'].map(txtsplit))\n",
    "RedDrumPositions['x'], RedDrumPositions['y'], RedDrumPositions['z'] = zip(*RedDrumPositions['position'].map(txtsplit))\n",
    "StickPositions['x'], StickPositions['y'], StickPositions['z'] = zip(*StickPositions['position'].map(txtsplit))"
   ]
  },
  {
   "cell_type": "code",
   "execution_count": 36,
   "metadata": {},
   "outputs": [],
   "source": [
    "#function to convert Unix time to seconds.milliseconds - easy to plot\n",
    "\n",
    "def time_correction(df):\n",
    "    \"\"\"The first time will be the referrence point till the end of the move\"\"\"\n",
    "    \n",
    "    df['corr_time'] = df['time'].apply(lambda x : float(x)  - int(df.loc[0,'time'].split(\".\")[0]))\n",
    "    \n",
    "    return df\n",
    "\n",
    "# function to remove columns which we dont need - position and time. Using x,y,z and corr_time for plots\n",
    "\n",
    "def clean_df(df):\n",
    "    \"\"\"remove the position and old time columns\"\"\"\n",
    "    df.drop(labels = ['position', 'time'], axis=1, inplace=True) ##removes position and time column\n",
    "    df.sort_values(by=['corr_time'], inplace=True) ##sort the df w.r.t time\n",
    "    for col in df.select_dtypes(include=['object']).columns:\n",
    "        df[col] = df[col].astype('float32')\n",
    "    return df[[ 'corr_time','x', 'y', 'z']]"
   ]
  },
  {
   "cell_type": "code",
   "execution_count": 37,
   "metadata": {},
   "outputs": [
    {
     "data": {
      "text/html": [
       "<div>\n",
       "<style scoped>\n",
       "    .dataframe tbody tr th:only-of-type {\n",
       "        vertical-align: middle;\n",
       "    }\n",
       "\n",
       "    .dataframe tbody tr th {\n",
       "        vertical-align: top;\n",
       "    }\n",
       "\n",
       "    .dataframe thead th {\n",
       "        text-align: right;\n",
       "    }\n",
       "</style>\n",
       "<table border=\"1\" class=\"dataframe\">\n",
       "  <thead>\n",
       "    <tr style=\"text-align: right;\">\n",
       "      <th></th>\n",
       "      <th>position</th>\n",
       "      <th>time</th>\n",
       "      <th>x</th>\n",
       "      <th>y</th>\n",
       "      <th>z</th>\n",
       "      <th>corr_time</th>\n",
       "    </tr>\n",
       "  </thead>\n",
       "  <tbody>\n",
       "    <tr>\n",
       "      <th>0</th>\n",
       "      <td>1.09768,-0.189055,5.608097</td>\n",
       "      <td>1600332339.662</td>\n",
       "      <td>1.09768</td>\n",
       "      <td>-0.189055</td>\n",
       "      <td>5.608097</td>\n",
       "      <td>0.662</td>\n",
       "    </tr>\n",
       "    <tr>\n",
       "      <th>1</th>\n",
       "      <td>1.093091,-0.1887292,5.613128</td>\n",
       "      <td>1600332339.691</td>\n",
       "      <td>1.093091</td>\n",
       "      <td>-0.1887292</td>\n",
       "      <td>5.613128</td>\n",
       "      <td>0.691</td>\n",
       "    </tr>\n",
       "    <tr>\n",
       "      <th>2</th>\n",
       "      <td>1.097273,-0.1852418,5.618028</td>\n",
       "      <td>1600332339.724</td>\n",
       "      <td>1.097273</td>\n",
       "      <td>-0.1852418</td>\n",
       "      <td>5.618028</td>\n",
       "      <td>0.724</td>\n",
       "    </tr>\n",
       "    <tr>\n",
       "      <th>3</th>\n",
       "      <td>1.119692,-0.1771073,5.616951</td>\n",
       "      <td>1600332339.758</td>\n",
       "      <td>1.119692</td>\n",
       "      <td>-0.1771073</td>\n",
       "      <td>5.616951</td>\n",
       "      <td>0.758</td>\n",
       "    </tr>\n",
       "    <tr>\n",
       "      <th>4</th>\n",
       "      <td>1.135091,-0.1656508,5.614075</td>\n",
       "      <td>1600332339.791</td>\n",
       "      <td>1.135091</td>\n",
       "      <td>-0.1656508</td>\n",
       "      <td>5.614075</td>\n",
       "      <td>0.791</td>\n",
       "    </tr>\n",
       "    <tr>\n",
       "      <th>...</th>\n",
       "      <td>...</td>\n",
       "      <td>...</td>\n",
       "      <td>...</td>\n",
       "      <td>...</td>\n",
       "      <td>...</td>\n",
       "      <td>...</td>\n",
       "    </tr>\n",
       "    <tr>\n",
       "      <th>296</th>\n",
       "      <td>0.4698905,-0.4317977,6.401113</td>\n",
       "      <td>1600332349.544</td>\n",
       "      <td>0.4698905</td>\n",
       "      <td>-0.4317977</td>\n",
       "      <td>6.401113</td>\n",
       "      <td>10.544</td>\n",
       "    </tr>\n",
       "    <tr>\n",
       "      <th>297</th>\n",
       "      <td>0.5493225,-0.3866408,6.032736</td>\n",
       "      <td>1600332349.578</td>\n",
       "      <td>0.5493225</td>\n",
       "      <td>-0.3866408</td>\n",
       "      <td>6.032736</td>\n",
       "      <td>10.578</td>\n",
       "    </tr>\n",
       "    <tr>\n",
       "      <th>298</th>\n",
       "      <td>0.6026134,-0.3786527,6.353698</td>\n",
       "      <td>1600332349.611</td>\n",
       "      <td>0.6026134</td>\n",
       "      <td>-0.3786527</td>\n",
       "      <td>6.353698</td>\n",
       "      <td>10.611</td>\n",
       "    </tr>\n",
       "    <tr>\n",
       "      <th>299</th>\n",
       "      <td>0.6711191,-0.3448679,6.313104</td>\n",
       "      <td>1600332349.645</td>\n",
       "      <td>0.6711191</td>\n",
       "      <td>-0.3448679</td>\n",
       "      <td>6.313104</td>\n",
       "      <td>10.645</td>\n",
       "    </tr>\n",
       "    <tr>\n",
       "      <th>300</th>\n",
       "      <td>0.5283041,-0.2583106,4.900407</td>\n",
       "      <td>1600332349.678</td>\n",
       "      <td>0.5283041</td>\n",
       "      <td>-0.2583106</td>\n",
       "      <td>4.900407</td>\n",
       "      <td>10.678</td>\n",
       "    </tr>\n",
       "  </tbody>\n",
       "</table>\n",
       "<p>301 rows × 6 columns</p>\n",
       "</div>"
      ],
      "text/plain": [
       "                          position            time          x           y  \\\n",
       "0       1.09768,-0.189055,5.608097  1600332339.662    1.09768   -0.189055   \n",
       "1     1.093091,-0.1887292,5.613128  1600332339.691   1.093091  -0.1887292   \n",
       "2     1.097273,-0.1852418,5.618028  1600332339.724   1.097273  -0.1852418   \n",
       "3     1.119692,-0.1771073,5.616951  1600332339.758   1.119692  -0.1771073   \n",
       "4     1.135091,-0.1656508,5.614075  1600332339.791   1.135091  -0.1656508   \n",
       "..                             ...             ...        ...         ...   \n",
       "296  0.4698905,-0.4317977,6.401113  1600332349.544  0.4698905  -0.4317977   \n",
       "297  0.5493225,-0.3866408,6.032736  1600332349.578  0.5493225  -0.3866408   \n",
       "298  0.6026134,-0.3786527,6.353698  1600332349.611  0.6026134  -0.3786527   \n",
       "299  0.6711191,-0.3448679,6.313104  1600332349.645  0.6711191  -0.3448679   \n",
       "300  0.5283041,-0.2583106,4.900407  1600332349.678  0.5283041  -0.2583106   \n",
       "\n",
       "            z  corr_time  \n",
       "0    5.608097      0.662  \n",
       "1    5.613128      0.691  \n",
       "2    5.618028      0.724  \n",
       "3    5.616951      0.758  \n",
       "4    5.614075      0.791  \n",
       "..        ...        ...  \n",
       "296  6.401113     10.544  \n",
       "297  6.032736     10.578  \n",
       "298  6.353698     10.611  \n",
       "299  6.313104     10.645  \n",
       "300  4.900407     10.678  \n",
       "\n",
       "[301 rows x 6 columns]"
      ]
     },
     "execution_count": 37,
     "metadata": {},
     "output_type": "execute_result"
    }
   ],
   "source": [
    "time_correction(BlueDrumPositions)"
   ]
  },
  {
   "cell_type": "code",
   "execution_count": 38,
   "metadata": {},
   "outputs": [],
   "source": [
    "# dataframe to use the required data\n",
    "\n",
    "BlueDrumPositions = clean_df(time_correction(BlueDrumPositions))\n",
    "RedDrumPositions = clean_df(time_correction(RedDrumPositions))\n",
    "StickPositions = clean_df(time_correction(StickPositions))"
   ]
  },
  {
   "cell_type": "code",
   "execution_count": 39,
   "metadata": {},
   "outputs": [
    {
     "data": {
      "text/html": [
       "<div>\n",
       "<style scoped>\n",
       "    .dataframe tbody tr th:only-of-type {\n",
       "        vertical-align: middle;\n",
       "    }\n",
       "\n",
       "    .dataframe tbody tr th {\n",
       "        vertical-align: top;\n",
       "    }\n",
       "\n",
       "    .dataframe thead th {\n",
       "        text-align: right;\n",
       "    }\n",
       "</style>\n",
       "<table border=\"1\" class=\"dataframe\">\n",
       "  <thead>\n",
       "    <tr style=\"text-align: right;\">\n",
       "      <th></th>\n",
       "      <th>corr_time</th>\n",
       "      <th>x</th>\n",
       "      <th>y</th>\n",
       "      <th>z</th>\n",
       "    </tr>\n",
       "  </thead>\n",
       "  <tbody>\n",
       "    <tr>\n",
       "      <th>0</th>\n",
       "      <td>0.662</td>\n",
       "      <td>1.097680</td>\n",
       "      <td>-0.189055</td>\n",
       "      <td>5.608097</td>\n",
       "    </tr>\n",
       "    <tr>\n",
       "      <th>1</th>\n",
       "      <td>0.691</td>\n",
       "      <td>1.093091</td>\n",
       "      <td>-0.188729</td>\n",
       "      <td>5.613128</td>\n",
       "    </tr>\n",
       "    <tr>\n",
       "      <th>2</th>\n",
       "      <td>0.724</td>\n",
       "      <td>1.097273</td>\n",
       "      <td>-0.185242</td>\n",
       "      <td>5.618028</td>\n",
       "    </tr>\n",
       "    <tr>\n",
       "      <th>3</th>\n",
       "      <td>0.758</td>\n",
       "      <td>1.119692</td>\n",
       "      <td>-0.177107</td>\n",
       "      <td>5.616951</td>\n",
       "    </tr>\n",
       "    <tr>\n",
       "      <th>4</th>\n",
       "      <td>0.791</td>\n",
       "      <td>1.135091</td>\n",
       "      <td>-0.165651</td>\n",
       "      <td>5.614075</td>\n",
       "    </tr>\n",
       "    <tr>\n",
       "      <th>...</th>\n",
       "      <td>...</td>\n",
       "      <td>...</td>\n",
       "      <td>...</td>\n",
       "      <td>...</td>\n",
       "    </tr>\n",
       "    <tr>\n",
       "      <th>297</th>\n",
       "      <td>10.578</td>\n",
       "      <td>0.549322</td>\n",
       "      <td>-0.386641</td>\n",
       "      <td>6.032736</td>\n",
       "    </tr>\n",
       "    <tr>\n",
       "      <th>298</th>\n",
       "      <td>10.611</td>\n",
       "      <td>0.602613</td>\n",
       "      <td>-0.378653</td>\n",
       "      <td>6.353698</td>\n",
       "    </tr>\n",
       "    <tr>\n",
       "      <th>299</th>\n",
       "      <td>10.645</td>\n",
       "      <td>0.671119</td>\n",
       "      <td>-0.344868</td>\n",
       "      <td>6.313104</td>\n",
       "    </tr>\n",
       "    <tr>\n",
       "      <th>300</th>\n",
       "      <td>10.678</td>\n",
       "      <td>0.528304</td>\n",
       "      <td>-0.258311</td>\n",
       "      <td>4.900407</td>\n",
       "    </tr>\n",
       "    <tr>\n",
       "      <th>282</th>\n",
       "      <td>10.780</td>\n",
       "      <td>-0.720515</td>\n",
       "      <td>-0.300410</td>\n",
       "      <td>6.515572</td>\n",
       "    </tr>\n",
       "  </tbody>\n",
       "</table>\n",
       "<p>301 rows × 4 columns</p>\n",
       "</div>"
      ],
      "text/plain": [
       "     corr_time         x         y         z\n",
       "0        0.662  1.097680 -0.189055  5.608097\n",
       "1        0.691  1.093091 -0.188729  5.613128\n",
       "2        0.724  1.097273 -0.185242  5.618028\n",
       "3        0.758  1.119692 -0.177107  5.616951\n",
       "4        0.791  1.135091 -0.165651  5.614075\n",
       "..         ...       ...       ...       ...\n",
       "297     10.578  0.549322 -0.386641  6.032736\n",
       "298     10.611  0.602613 -0.378653  6.353698\n",
       "299     10.645  0.671119 -0.344868  6.313104\n",
       "300     10.678  0.528304 -0.258311  4.900407\n",
       "282     10.780 -0.720515 -0.300410  6.515572\n",
       "\n",
       "[301 rows x 4 columns]"
      ]
     },
     "execution_count": 39,
     "metadata": {},
     "output_type": "execute_result"
    }
   ],
   "source": [
    "BlueDrumPositions"
   ]
  },
  {
   "cell_type": "code",
   "execution_count": 40,
   "metadata": {},
   "outputs": [
    {
     "data": {
      "text/html": [
       "<div>\n",
       "<style scoped>\n",
       "    .dataframe tbody tr th:only-of-type {\n",
       "        vertical-align: middle;\n",
       "    }\n",
       "\n",
       "    .dataframe tbody tr th {\n",
       "        vertical-align: top;\n",
       "    }\n",
       "\n",
       "    .dataframe thead th {\n",
       "        text-align: right;\n",
       "    }\n",
       "</style>\n",
       "<table border=\"1\" class=\"dataframe\">\n",
       "  <thead>\n",
       "    <tr style=\"text-align: right;\">\n",
       "      <th></th>\n",
       "      <th>corr_time</th>\n",
       "      <th>x</th>\n",
       "      <th>y</th>\n",
       "      <th>z</th>\n",
       "    </tr>\n",
       "  </thead>\n",
       "  <tbody>\n",
       "    <tr>\n",
       "      <th>0</th>\n",
       "      <td>0.662</td>\n",
       "      <td>1.124633</td>\n",
       "      <td>-1.296228</td>\n",
       "      <td>4.394628</td>\n",
       "    </tr>\n",
       "    <tr>\n",
       "      <th>1</th>\n",
       "      <td>0.691</td>\n",
       "      <td>1.090954</td>\n",
       "      <td>-1.261557</td>\n",
       "      <td>4.384927</td>\n",
       "    </tr>\n",
       "    <tr>\n",
       "      <th>2</th>\n",
       "      <td>0.724</td>\n",
       "      <td>1.073847</td>\n",
       "      <td>-1.226703</td>\n",
       "      <td>4.371795</td>\n",
       "    </tr>\n",
       "    <tr>\n",
       "      <th>3</th>\n",
       "      <td>0.758</td>\n",
       "      <td>1.073968</td>\n",
       "      <td>-1.202090</td>\n",
       "      <td>4.380966</td>\n",
       "    </tr>\n",
       "    <tr>\n",
       "      <th>4</th>\n",
       "      <td>0.791</td>\n",
       "      <td>1.054456</td>\n",
       "      <td>-1.196381</td>\n",
       "      <td>4.388039</td>\n",
       "    </tr>\n",
       "    <tr>\n",
       "      <th>...</th>\n",
       "      <td>...</td>\n",
       "      <td>...</td>\n",
       "      <td>...</td>\n",
       "      <td>...</td>\n",
       "    </tr>\n",
       "    <tr>\n",
       "      <th>297</th>\n",
       "      <td>10.578</td>\n",
       "      <td>0.628591</td>\n",
       "      <td>-1.010340</td>\n",
       "      <td>4.594260</td>\n",
       "    </tr>\n",
       "    <tr>\n",
       "      <th>298</th>\n",
       "      <td>10.611</td>\n",
       "      <td>0.598923</td>\n",
       "      <td>-1.012431</td>\n",
       "      <td>4.552535</td>\n",
       "    </tr>\n",
       "    <tr>\n",
       "      <th>299</th>\n",
       "      <td>10.645</td>\n",
       "      <td>0.575113</td>\n",
       "      <td>-1.001750</td>\n",
       "      <td>4.524353</td>\n",
       "    </tr>\n",
       "    <tr>\n",
       "      <th>300</th>\n",
       "      <td>10.678</td>\n",
       "      <td>0.538717</td>\n",
       "      <td>-1.008595</td>\n",
       "      <td>4.501482</td>\n",
       "    </tr>\n",
       "    <tr>\n",
       "      <th>282</th>\n",
       "      <td>10.780</td>\n",
       "      <td>0.907819</td>\n",
       "      <td>-0.446356</td>\n",
       "      <td>5.206241</td>\n",
       "    </tr>\n",
       "  </tbody>\n",
       "</table>\n",
       "<p>301 rows × 4 columns</p>\n",
       "</div>"
      ],
      "text/plain": [
       "     corr_time         x         y         z\n",
       "0        0.662  1.124633 -1.296228  4.394628\n",
       "1        0.691  1.090954 -1.261557  4.384927\n",
       "2        0.724  1.073847 -1.226703  4.371795\n",
       "3        0.758  1.073968 -1.202090  4.380966\n",
       "4        0.791  1.054456 -1.196381  4.388039\n",
       "..         ...       ...       ...       ...\n",
       "297     10.578  0.628591 -1.010340  4.594260\n",
       "298     10.611  0.598923 -1.012431  4.552535\n",
       "299     10.645  0.575113 -1.001750  4.524353\n",
       "300     10.678  0.538717 -1.008595  4.501482\n",
       "282     10.780  0.907819 -0.446356  5.206241\n",
       "\n",
       "[301 rows x 4 columns]"
      ]
     },
     "execution_count": 40,
     "metadata": {},
     "output_type": "execute_result"
    }
   ],
   "source": [
    "StickPositions"
   ]
  },
  {
   "cell_type": "code",
   "execution_count": 41,
   "metadata": {},
   "outputs": [
    {
     "data": {
      "text/html": [
       "<div>\n",
       "<style scoped>\n",
       "    .dataframe tbody tr th:only-of-type {\n",
       "        vertical-align: middle;\n",
       "    }\n",
       "\n",
       "    .dataframe tbody tr th {\n",
       "        vertical-align: top;\n",
       "    }\n",
       "\n",
       "    .dataframe thead th {\n",
       "        text-align: right;\n",
       "    }\n",
       "</style>\n",
       "<table border=\"1\" class=\"dataframe\">\n",
       "  <thead>\n",
       "    <tr style=\"text-align: right;\">\n",
       "      <th></th>\n",
       "      <th>corr_time</th>\n",
       "      <th>x</th>\n",
       "      <th>y</th>\n",
       "      <th>z</th>\n",
       "    </tr>\n",
       "  </thead>\n",
       "  <tbody>\n",
       "    <tr>\n",
       "      <th>0</th>\n",
       "      <td>0.662</td>\n",
       "      <td>1.097680</td>\n",
       "      <td>-0.189055</td>\n",
       "      <td>5.608097</td>\n",
       "    </tr>\n",
       "    <tr>\n",
       "      <th>1</th>\n",
       "      <td>0.691</td>\n",
       "      <td>1.093091</td>\n",
       "      <td>-0.188729</td>\n",
       "      <td>5.613128</td>\n",
       "    </tr>\n",
       "    <tr>\n",
       "      <th>2</th>\n",
       "      <td>0.724</td>\n",
       "      <td>1.097273</td>\n",
       "      <td>-0.185242</td>\n",
       "      <td>5.618028</td>\n",
       "    </tr>\n",
       "    <tr>\n",
       "      <th>3</th>\n",
       "      <td>0.758</td>\n",
       "      <td>1.119692</td>\n",
       "      <td>-0.177107</td>\n",
       "      <td>5.616951</td>\n",
       "    </tr>\n",
       "    <tr>\n",
       "      <th>4</th>\n",
       "      <td>0.791</td>\n",
       "      <td>1.135091</td>\n",
       "      <td>-0.165651</td>\n",
       "      <td>5.614075</td>\n",
       "    </tr>\n",
       "    <tr>\n",
       "      <th>...</th>\n",
       "      <td>...</td>\n",
       "      <td>...</td>\n",
       "      <td>...</td>\n",
       "      <td>...</td>\n",
       "    </tr>\n",
       "    <tr>\n",
       "      <th>297</th>\n",
       "      <td>10.578</td>\n",
       "      <td>0.549322</td>\n",
       "      <td>-0.386641</td>\n",
       "      <td>6.032736</td>\n",
       "    </tr>\n",
       "    <tr>\n",
       "      <th>298</th>\n",
       "      <td>10.611</td>\n",
       "      <td>0.602613</td>\n",
       "      <td>-0.378653</td>\n",
       "      <td>6.353698</td>\n",
       "    </tr>\n",
       "    <tr>\n",
       "      <th>299</th>\n",
       "      <td>10.645</td>\n",
       "      <td>0.671119</td>\n",
       "      <td>-0.344868</td>\n",
       "      <td>6.313104</td>\n",
       "    </tr>\n",
       "    <tr>\n",
       "      <th>300</th>\n",
       "      <td>10.678</td>\n",
       "      <td>0.528304</td>\n",
       "      <td>-0.258311</td>\n",
       "      <td>4.900407</td>\n",
       "    </tr>\n",
       "    <tr>\n",
       "      <th>282</th>\n",
       "      <td>10.780</td>\n",
       "      <td>-0.720515</td>\n",
       "      <td>-0.300410</td>\n",
       "      <td>6.515572</td>\n",
       "    </tr>\n",
       "  </tbody>\n",
       "</table>\n",
       "<p>301 rows × 4 columns</p>\n",
       "</div>"
      ],
      "text/plain": [
       "     corr_time         x         y         z\n",
       "0        0.662  1.097680 -0.189055  5.608097\n",
       "1        0.691  1.093091 -0.188729  5.613128\n",
       "2        0.724  1.097273 -0.185242  5.618028\n",
       "3        0.758  1.119692 -0.177107  5.616951\n",
       "4        0.791  1.135091 -0.165651  5.614075\n",
       "..         ...       ...       ...       ...\n",
       "297     10.578  0.549322 -0.386641  6.032736\n",
       "298     10.611  0.602613 -0.378653  6.353698\n",
       "299     10.645  0.671119 -0.344868  6.313104\n",
       "300     10.678  0.528304 -0.258311  4.900407\n",
       "282     10.780 -0.720515 -0.300410  6.515572\n",
       "\n",
       "[301 rows x 4 columns]"
      ]
     },
     "execution_count": 41,
     "metadata": {},
     "output_type": "execute_result"
    }
   ],
   "source": [
    "BlueDrumPositions"
   ]
  },
  {
   "cell_type": "code",
   "execution_count": 42,
   "metadata": {},
   "outputs": [
    {
     "data": {
      "text/html": [
       "<div>\n",
       "<style scoped>\n",
       "    .dataframe tbody tr th:only-of-type {\n",
       "        vertical-align: middle;\n",
       "    }\n",
       "\n",
       "    .dataframe tbody tr th {\n",
       "        vertical-align: top;\n",
       "    }\n",
       "\n",
       "    .dataframe thead th {\n",
       "        text-align: right;\n",
       "    }\n",
       "</style>\n",
       "<table border=\"1\" class=\"dataframe\">\n",
       "  <thead>\n",
       "    <tr style=\"text-align: right;\">\n",
       "      <th></th>\n",
       "      <th>corr_time</th>\n",
       "      <th>x</th>\n",
       "      <th>y</th>\n",
       "      <th>z</th>\n",
       "    </tr>\n",
       "  </thead>\n",
       "  <tbody>\n",
       "    <tr>\n",
       "      <th>0</th>\n",
       "      <td>0.662</td>\n",
       "      <td>-1.481220</td>\n",
       "      <td>-0.300331</td>\n",
       "      <td>5.725851</td>\n",
       "    </tr>\n",
       "    <tr>\n",
       "      <th>1</th>\n",
       "      <td>0.691</td>\n",
       "      <td>-1.485822</td>\n",
       "      <td>-0.306179</td>\n",
       "      <td>5.712714</td>\n",
       "    </tr>\n",
       "    <tr>\n",
       "      <th>2</th>\n",
       "      <td>0.724</td>\n",
       "      <td>-1.481698</td>\n",
       "      <td>-0.313400</td>\n",
       "      <td>5.704000</td>\n",
       "    </tr>\n",
       "    <tr>\n",
       "      <th>3</th>\n",
       "      <td>0.758</td>\n",
       "      <td>-1.461307</td>\n",
       "      <td>-0.314592</td>\n",
       "      <td>5.713202</td>\n",
       "    </tr>\n",
       "    <tr>\n",
       "      <th>4</th>\n",
       "      <td>0.791</td>\n",
       "      <td>-1.445797</td>\n",
       "      <td>-0.310550</td>\n",
       "      <td>5.707458</td>\n",
       "    </tr>\n",
       "    <tr>\n",
       "      <th>...</th>\n",
       "      <td>...</td>\n",
       "      <td>...</td>\n",
       "      <td>...</td>\n",
       "      <td>...</td>\n",
       "    </tr>\n",
       "    <tr>\n",
       "      <th>297</th>\n",
       "      <td>10.578</td>\n",
       "      <td>-3.652273</td>\n",
       "      <td>0.465555</td>\n",
       "      <td>5.123376</td>\n",
       "    </tr>\n",
       "    <tr>\n",
       "      <th>298</th>\n",
       "      <td>10.611</td>\n",
       "      <td>-3.652273</td>\n",
       "      <td>0.465555</td>\n",
       "      <td>5.123376</td>\n",
       "    </tr>\n",
       "    <tr>\n",
       "      <th>299</th>\n",
       "      <td>10.645</td>\n",
       "      <td>-3.652273</td>\n",
       "      <td>0.465555</td>\n",
       "      <td>5.123376</td>\n",
       "    </tr>\n",
       "    <tr>\n",
       "      <th>300</th>\n",
       "      <td>10.678</td>\n",
       "      <td>-3.652273</td>\n",
       "      <td>0.465555</td>\n",
       "      <td>5.123376</td>\n",
       "    </tr>\n",
       "    <tr>\n",
       "      <th>282</th>\n",
       "      <td>10.780</td>\n",
       "      <td>-3.652273</td>\n",
       "      <td>0.465555</td>\n",
       "      <td>5.123376</td>\n",
       "    </tr>\n",
       "  </tbody>\n",
       "</table>\n",
       "<p>301 rows × 4 columns</p>\n",
       "</div>"
      ],
      "text/plain": [
       "     corr_time         x         y         z\n",
       "0        0.662 -1.481220 -0.300331  5.725851\n",
       "1        0.691 -1.485822 -0.306179  5.712714\n",
       "2        0.724 -1.481698 -0.313400  5.704000\n",
       "3        0.758 -1.461307 -0.314592  5.713202\n",
       "4        0.791 -1.445797 -0.310550  5.707458\n",
       "..         ...       ...       ...       ...\n",
       "297     10.578 -3.652273  0.465555  5.123376\n",
       "298     10.611 -3.652273  0.465555  5.123376\n",
       "299     10.645 -3.652273  0.465555  5.123376\n",
       "300     10.678 -3.652273  0.465555  5.123376\n",
       "282     10.780 -3.652273  0.465555  5.123376\n",
       "\n",
       "[301 rows x 4 columns]"
      ]
     },
     "execution_count": 42,
     "metadata": {},
     "output_type": "execute_result"
    }
   ],
   "source": [
    "RedDrumPositions"
   ]
  },
  {
   "cell_type": "code",
   "execution_count": 43,
   "metadata": {},
   "outputs": [
    {
     "data": {
      "text/plain": [
       "[<matplotlib.lines.Line2D at 0x1221c1eb0>]"
      ]
     },
     "execution_count": 43,
     "metadata": {},
     "output_type": "execute_result"
    },
    {
     "data": {
      "image/png": "[encoded data removed]",
      "text/plain": [
       "<Figure size 720x432 with 1 Axes>"
      ]
     },
     "metadata": {
      "needs_background": "light"
     },
     "output_type": "display_data"
    }
   ],
   "source": [
    "x = StickPositions[[\"corr_time\",\"x\"]].to_numpy()[:,0] ####array\n",
    "y = StickPositions[[\"corr_time\",\"x\"]].to_numpy()[:,1] ####array\n",
    "\n",
    "plt.figure(figsize=(10,6))\n",
    "#plt.axis(\"off\")\n",
    "plt.yticks(np.arange(y.min(),y.max()))\n",
    "plt.plot(x,y,\"*\")"
   ]
  },
  {
   "cell_type": "code",
   "execution_count": 44,
   "metadata": {},
   "outputs": [],
   "source": [
    "x = BlueDrumPositions[[\"corr_time\",\"x\"]].to_numpy()[:,0] ####array\n",
    "y = BlueDrumPositions[[\"corr_time\",\"x\"]].to_numpy()[:,1] ####array"
   ]
  },
  {
   "cell_type": "code",
   "execution_count": 45,
   "metadata": {},
   "outputs": [
    {
     "data": {
      "text/plain": [
       "[<matplotlib.lines.Line2D at 0x12237f3a0>]"
      ]
     },
     "execution_count": 45,
     "metadata": {},
     "output_type": "execute_result"
    },
    {
     "data": {
      "image/png": "[encoded data removed]",
      "text/plain": [
       "<Figure size 720x432 with 1 Axes>"
      ]
     },
     "metadata": {
      "needs_background": "light"
     },
     "output_type": "display_data"
    }
   ],
   "source": [
    "plt.figure(figsize=(10,6))\n",
    "#plt.axis(\"off\")\n",
    "plt.plot(x,y, \"-+\")"
   ]
  },
  {
   "cell_type": "code",
   "execution_count": 46,
   "metadata": {},
   "outputs": [],
   "source": [
    "x = RedDrumPositions[[\"corr_time\",\"x\"]].to_numpy()[:,0] ####array\n",
    "y = RedDrumPositions[[\"corr_time\",\"x\"]].to_numpy()[:,1] ####array"
   ]
  },
  {
   "cell_type": "code",
   "execution_count": 47,
   "metadata": {},
   "outputs": [
    {
     "data": {
      "text/plain": [
       "[<matplotlib.lines.Line2D at 0x122331a00>]"
      ]
     },
     "execution_count": 47,
     "metadata": {},
     "output_type": "execute_result"
    },
    {
     "data": {
      "image/png": "[encoded data removed]",
      "text/plain": [
       "<Figure size 720x432 with 1 Axes>"
      ]
     },
     "metadata": {
      "needs_background": "light"
     },
     "output_type": "display_data"
    }
   ],
   "source": [
    "plt.figure(figsize=(10,6))\n",
    "#plt.axis(\"off\")\n",
    "plt.plot(x,y, \"-+\")"
   ]
  },
  {
   "cell_type": "code",
   "execution_count": 70,
   "metadata": {},
   "outputs": [],
   "source": [
    "# time = StickPositions.to_numpy()[:,0]\n",
    "# x = StickPositions.to_numpy()[:,1]\n",
    "# y = StickPositions.to_numpy()[:,2]\n",
    "# z = StickPositions.to_numpy()[:,3]"
   ]
  },
  {
   "cell_type": "code",
   "execution_count": 78,
   "metadata": {},
   "outputs": [],
   "source": [
    "# time = BlueDrumPositions.to_numpy()[:,0]\n",
    "# x = BlueDrumPositions.to_numpy()[:,1]\n",
    "# y = BlueDrumPositions.to_numpy()[:,2]\n",
    "# z = BlueDrumPositions.to_numpy()[:,3]"
   ]
  },
  {
   "cell_type": "code",
   "execution_count": 79,
   "metadata": {},
   "outputs": [],
   "source": [
    "time = RedDrumPositions.to_numpy()[:,0]\n",
    "x = RedDrumPositions.to_numpy()[:,1]\n",
    "y = RedDrumPositions.to_numpy()[:,2]\n",
    "z = RedDrumPositions.to_numpy()[:,3]"
   ]
  },
  {
   "cell_type": "code",
   "execution_count": 80,
   "metadata": {},
   "outputs": [
    {
     "data": {
      "image/png": "[encoded data removed]",
      "text/plain": [
       "<Figure size 432x288 with 1 Axes>"
      ]
     },
     "metadata": {
      "needs_background": "light"
     },
     "output_type": "display_data"
    }
   ],
   "source": [
    "fig = plt.figure()\n",
    "ax = p3.Axes3D(fig) ## create empty 3d axis\n",
    "\n",
    "# Setting the axes properties\n",
    "ax.set_xlim3d([-2.0, 2.0])\n",
    "ax.set_xlabel('X')\n",
    "\n",
    "ax.set_ylim3d([-2.0,2.0])\n",
    "ax.set_ylabel('Y')\n",
    "\n",
    "ax.set_zlim3d([-2.0,4.5])\n",
    "ax.set_zlabel('Z')\n",
    "\n",
    "line = ax.plot_wireframe(x.reshape(-1,1) ,y.reshape(-1,1) ,z.reshape(-1,1) )"
   ]
  },
  {
   "cell_type": "code",
   "execution_count": null,
   "metadata": {},
   "outputs": [],
   "source": []
  },
  {
   "cell_type": "code",
   "execution_count": null,
   "metadata": {},
   "outputs": [],
   "source": []
  }
 ],
 "metadata": {
  "kernelspec": {
   "display_name": "Python 3",
   "language": "python",
   "name": "python3"
  },
  "language_info": {
   "codemirror_mode": {
    "name": "ipython",
    "version": 3
   },
   "file_extension": ".py",
   "mimetype": "text/x-python",
   "name": "python",
   "nbconvert_exporter": "python",
   "pygments_lexer": "ipython3",
   "version": "3.8.3"
  }
 },
 "nbformat": 4,
 "nbformat_minor": 4
}
